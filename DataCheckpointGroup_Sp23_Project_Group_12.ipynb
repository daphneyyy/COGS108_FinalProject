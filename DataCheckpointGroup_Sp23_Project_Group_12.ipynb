{
 "cells": [
  {
   "attachments": {},
   "cell_type": "markdown",
   "metadata": {},
   "source": [
    "# COGS 108 - Data Checkpoint"
   ]
  },
  {
   "attachments": {},
   "cell_type": "markdown",
   "metadata": {},
   "source": [
    "# Names\n",
    "\n",
    "- Leica Shen\n",
    "- Yuxuan Wu\n",
    "- Eddie Ho\n",
    "- Xuewen Yang"
   ]
  },
  {
   "attachments": {},
   "cell_type": "markdown",
   "metadata": {},
   "source": [
    "<a id='research_question'></a>\n",
    "# Research Question"
   ]
  },
  {
   "attachments": {},
   "cell_type": "markdown",
   "metadata": {},
   "source": [
    "How has the COVID-19 pandemic impact global warming? Specifically, how do changes in greenhouse gas emissions during 1/30/2020 - 4/11/2023 resulting from pandemic-related lockdowns impact the rate of global temperature increase and sea level rise?"
   ]
  },
  {
   "attachments": {},
   "cell_type": "markdown",
   "metadata": {},
   "source": [
    "# Dataset(s)"
   ]
  },
  {
   "attachments": {},
   "cell_type": "markdown",
   "metadata": {},
   "source": [
    "**Dataset 1**\n",
    "- Dataset Name: global_land_and_ocean_temp_anomalies\n",
    "- Link to the dataset: https://www.ncei.noaa.gov/access/monitoring/climate-at-a-glance/global/time-series/globe/land_ocean/all/1/1900-2023\n",
    "- Number of observations: 1480\n",
    "\n",
    "Global temperature anomalies for land and ocean from 01/1900 to 04/2023, compared to a baseline climatology from 1901-2000.\n",
    "\n",
    "If you plan to use multiple datasets, add 1-2 sentences about how you plan to combine these datasets."
   ]
  },
  {
   "attachments": {},
   "cell_type": "markdown",
   "metadata": {},
   "source": [
    "**Dataset 2**\n",
    "- Dataset Name: Change_in_Mean_Sea_Levels\n",
    "- Link to the dataset: https://climatedata.imf.org/datasets/b84a7e25159b4c65ba62d3f82c605855/explore\n",
    "- Number of observations: 1608\n",
    "\n",
    "Change in average sea levels across different regions of the world, measured in millimeters and derived from satellite radar altimeter measurements of sea level. The time-series data spans from 12/17/1992 to 8/10/2022, with 3/4 data points available for each month. \n",
    "\n",
    "If you plan to use multiple datasets, add 1-2 sentences about how you plan to combine these datasets."
   ]
  },
  {
   "attachments": {},
   "cell_type": "markdown",
   "metadata": {},
   "source": [
    "**Dataset 3**\n",
    "- Dataset Name: Atmospheric_CO2_Concentrations\n",
    "- Link to the dataset: https://climatedata.imf.org/datasets/9c3764c0efcc4c71934ab3988f219e0e/explore\n",
    "- Number of observations: 1548\n",
    "\n",
    "Monthly measurements of global atmospheric carbon dioxide ($CO_2$) concentrations are provided as dry air mole fractions in parts per million (ppm), representing the ratio of $CO_2$ molecules to the total number of molecules in the air excluding water vapor. Dataset spans from 3/1958 to 2/2023.\n",
    "\n",
    "If you plan to use multiple datasets, add 1-2 sentences about how you plan to combine these datasets."
   ]
  },
  {
   "attachments": {},
   "cell_type": "markdown",
   "metadata": {},
   "source": [
    "# Setup"
   ]
  },
  {
   "cell_type": "code",
   "execution_count": 1,
   "metadata": {},
   "outputs": [],
   "source": [
    "import pandas as pd\n",
    "import numpy as np"
   ]
  },
  {
   "cell_type": "code",
   "execution_count": 25,
   "metadata": {},
   "outputs": [
    {
     "data": {
      "text/html": [
       "<div>\n",
       "<style scoped>\n",
       "    .dataframe tbody tr th:only-of-type {\n",
       "        vertical-align: middle;\n",
       "    }\n",
       "\n",
       "    .dataframe tbody tr th {\n",
       "        vertical-align: top;\n",
       "    }\n",
       "\n",
       "    .dataframe thead th {\n",
       "        text-align: right;\n",
       "    }\n",
       "</style>\n",
       "<table border=\"1\" class=\"dataframe\">\n",
       "  <thead>\n",
       "    <tr style=\"text-align: right;\">\n",
       "      <th></th>\n",
       "      <th>Year</th>\n",
       "      <th>Value</th>\n",
       "    </tr>\n",
       "  </thead>\n",
       "  <tbody>\n",
       "    <tr>\n",
       "      <th>0</th>\n",
       "      <td>190001</td>\n",
       "      <td>-0.30</td>\n",
       "    </tr>\n",
       "    <tr>\n",
       "      <th>1</th>\n",
       "      <td>190002</td>\n",
       "      <td>-0.17</td>\n",
       "    </tr>\n",
       "    <tr>\n",
       "      <th>2</th>\n",
       "      <td>190003</td>\n",
       "      <td>-0.03</td>\n",
       "    </tr>\n",
       "    <tr>\n",
       "      <th>3</th>\n",
       "      <td>190004</td>\n",
       "      <td>-0.05</td>\n",
       "    </tr>\n",
       "    <tr>\n",
       "      <th>4</th>\n",
       "      <td>190005</td>\n",
       "      <td>-0.06</td>\n",
       "    </tr>\n",
       "  </tbody>\n",
       "</table>\n",
       "</div>"
      ],
      "text/plain": [
       "     Year  Value\n",
       "0  190001  -0.30\n",
       "1  190002  -0.17\n",
       "2  190003  -0.03\n",
       "3  190004  -0.05\n",
       "4  190005  -0.06"
      ]
     },
     "execution_count": 25,
     "metadata": {},
     "output_type": "execute_result"
    }
   ],
   "source": [
    "temp_change = pd.read_csv('data/global_land_and_ocean_temp_anomalies.csv', skiprows=4)\n",
    "temp_change.head()"
   ]
  },
  {
   "cell_type": "code",
   "execution_count": 26,
   "metadata": {},
   "outputs": [
    {
     "data": {
      "text/plain": [
       "(1480, 2)"
      ]
     },
     "execution_count": 26,
     "metadata": {},
     "output_type": "execute_result"
    }
   ],
   "source": [
    "temp_change.shape"
   ]
  },
  {
   "cell_type": "code",
   "execution_count": 13,
   "metadata": {},
   "outputs": [
    {
     "data": {
      "text/html": [
       "<div>\n",
       "<style scoped>\n",
       "    .dataframe tbody tr th:only-of-type {\n",
       "        vertical-align: middle;\n",
       "    }\n",
       "\n",
       "    .dataframe tbody tr th {\n",
       "        vertical-align: top;\n",
       "    }\n",
       "\n",
       "    .dataframe thead th {\n",
       "        text-align: right;\n",
       "    }\n",
       "</style>\n",
       "<table border=\"1\" class=\"dataframe\">\n",
       "  <thead>\n",
       "    <tr style=\"text-align: right;\">\n",
       "      <th></th>\n",
       "      <th>Country</th>\n",
       "      <th>ISO2</th>\n",
       "      <th>ISO3</th>\n",
       "      <th>Indicator</th>\n",
       "      <th>Unit</th>\n",
       "      <th>Source</th>\n",
       "      <th>CTS_Code</th>\n",
       "      <th>CTS_Name</th>\n",
       "      <th>CTS_Full_Descriptor</th>\n",
       "      <th>Measure</th>\n",
       "      <th>Date</th>\n",
       "      <th>Value</th>\n",
       "    </tr>\n",
       "  </thead>\n",
       "  <tbody>\n",
       "    <tr>\n",
       "      <th>0</th>\n",
       "      <td>World</td>\n",
       "      <td>NaN</td>\n",
       "      <td>WLD</td>\n",
       "      <td>Change in mean sea level: Sea level: TOPEX.Pos...</td>\n",
       "      <td>Millimeters</td>\n",
       "      <td>National Oceanic and Atmospheric Administratio...</td>\n",
       "      <td>ECCL</td>\n",
       "      <td>Change in Mean Sea Level</td>\n",
       "      <td>Environment, Climate Change, Climate Indicator...</td>\n",
       "      <td>Andaman Sea</td>\n",
       "      <td>D12/17/1992</td>\n",
       "      <td>-10.34</td>\n",
       "    </tr>\n",
       "    <tr>\n",
       "      <th>1</th>\n",
       "      <td>World</td>\n",
       "      <td>NaN</td>\n",
       "      <td>WLD</td>\n",
       "      <td>Change in mean sea level: Sea level: TOPEX.Pos...</td>\n",
       "      <td>Millimeters</td>\n",
       "      <td>National Oceanic and Atmospheric Administratio...</td>\n",
       "      <td>ECCL</td>\n",
       "      <td>Change in Mean Sea Level</td>\n",
       "      <td>Environment, Climate Change, Climate Indicator...</td>\n",
       "      <td>Arabian Sea</td>\n",
       "      <td>D12/17/1992</td>\n",
       "      <td>-18.46</td>\n",
       "    </tr>\n",
       "    <tr>\n",
       "      <th>2</th>\n",
       "      <td>World</td>\n",
       "      <td>NaN</td>\n",
       "      <td>WLD</td>\n",
       "      <td>Change in mean sea level: Sea level: TOPEX.Pos...</td>\n",
       "      <td>Millimeters</td>\n",
       "      <td>National Oceanic and Atmospheric Administratio...</td>\n",
       "      <td>ECCL</td>\n",
       "      <td>Change in Mean Sea Level</td>\n",
       "      <td>Environment, Climate Change, Climate Indicator...</td>\n",
       "      <td>Atlantic Ocean</td>\n",
       "      <td>D12/17/1992</td>\n",
       "      <td>-15.41</td>\n",
       "    </tr>\n",
       "    <tr>\n",
       "      <th>3</th>\n",
       "      <td>World</td>\n",
       "      <td>NaN</td>\n",
       "      <td>WLD</td>\n",
       "      <td>Change in mean sea level: Sea level: TOPEX.Pos...</td>\n",
       "      <td>Millimeters</td>\n",
       "      <td>National Oceanic and Atmospheric Administratio...</td>\n",
       "      <td>ECCL</td>\n",
       "      <td>Change in Mean Sea Level</td>\n",
       "      <td>Environment, Climate Change, Climate Indicator...</td>\n",
       "      <td>Baltic Sea</td>\n",
       "      <td>D12/17/1992</td>\n",
       "      <td>196.85</td>\n",
       "    </tr>\n",
       "    <tr>\n",
       "      <th>4</th>\n",
       "      <td>World</td>\n",
       "      <td>NaN</td>\n",
       "      <td>WLD</td>\n",
       "      <td>Change in mean sea level: Sea level: TOPEX.Pos...</td>\n",
       "      <td>Millimeters</td>\n",
       "      <td>National Oceanic and Atmospheric Administratio...</td>\n",
       "      <td>ECCL</td>\n",
       "      <td>Change in Mean Sea Level</td>\n",
       "      <td>Environment, Climate Change, Climate Indicator...</td>\n",
       "      <td>Bay Bengal</td>\n",
       "      <td>D12/17/1992</td>\n",
       "      <td>3.27</td>\n",
       "    </tr>\n",
       "  </tbody>\n",
       "</table>\n",
       "</div>"
      ],
      "text/plain": [
       "  Country  ISO2 ISO3                                          Indicator   \n",
       "0   World   NaN  WLD  Change in mean sea level: Sea level: TOPEX.Pos...  \\\n",
       "1   World   NaN  WLD  Change in mean sea level: Sea level: TOPEX.Pos...   \n",
       "2   World   NaN  WLD  Change in mean sea level: Sea level: TOPEX.Pos...   \n",
       "3   World   NaN  WLD  Change in mean sea level: Sea level: TOPEX.Pos...   \n",
       "4   World   NaN  WLD  Change in mean sea level: Sea level: TOPEX.Pos...   \n",
       "\n",
       "          Unit                                             Source CTS_Code   \n",
       "0  Millimeters  National Oceanic and Atmospheric Administratio...     ECCL  \\\n",
       "1  Millimeters  National Oceanic and Atmospheric Administratio...     ECCL   \n",
       "2  Millimeters  National Oceanic and Atmospheric Administratio...     ECCL   \n",
       "3  Millimeters  National Oceanic and Atmospheric Administratio...     ECCL   \n",
       "4  Millimeters  National Oceanic and Atmospheric Administratio...     ECCL   \n",
       "\n",
       "                   CTS_Name   \n",
       "0  Change in Mean Sea Level  \\\n",
       "1  Change in Mean Sea Level   \n",
       "2  Change in Mean Sea Level   \n",
       "3  Change in Mean Sea Level   \n",
       "4  Change in Mean Sea Level   \n",
       "\n",
       "                                 CTS_Full_Descriptor         Measure   \n",
       "0  Environment, Climate Change, Climate Indicator...     Andaman Sea  \\\n",
       "1  Environment, Climate Change, Climate Indicator...     Arabian Sea   \n",
       "2  Environment, Climate Change, Climate Indicator...  Atlantic Ocean   \n",
       "3  Environment, Climate Change, Climate Indicator...      Baltic Sea   \n",
       "4  Environment, Climate Change, Climate Indicator...      Bay Bengal   \n",
       "\n",
       "          Date   Value  \n",
       "0  D12/17/1992  -10.34  \n",
       "1  D12/17/1992  -18.46  \n",
       "2  D12/17/1992  -15.41  \n",
       "3  D12/17/1992  196.85  \n",
       "4  D12/17/1992    3.27  "
      ]
     },
     "execution_count": 13,
     "metadata": {},
     "output_type": "execute_result"
    }
   ],
   "source": [
    "sea_level = pd.read_csv('data/Change_in_Mean_Sea_Levels.csv').drop(columns='ObjectId')\n",
    "sea_level.head()"
   ]
  },
  {
   "cell_type": "code",
   "execution_count": 15,
   "metadata": {},
   "outputs": [
    {
     "data": {
      "text/plain": [
       "(1608, 3)"
      ]
     },
     "execution_count": 15,
     "metadata": {},
     "output_type": "execute_result"
    }
   ],
   "source": [
    "sea_level.shape"
   ]
  },
  {
   "cell_type": "code",
   "execution_count": 16,
   "metadata": {},
   "outputs": [
    {
     "data": {
      "text/html": [
       "<div>\n",
       "<style scoped>\n",
       "    .dataframe tbody tr th:only-of-type {\n",
       "        vertical-align: middle;\n",
       "    }\n",
       "\n",
       "    .dataframe tbody tr th {\n",
       "        vertical-align: top;\n",
       "    }\n",
       "\n",
       "    .dataframe thead th {\n",
       "        text-align: right;\n",
       "    }\n",
       "</style>\n",
       "<table border=\"1\" class=\"dataframe\">\n",
       "  <thead>\n",
       "    <tr style=\"text-align: right;\">\n",
       "      <th></th>\n",
       "      <th>Country</th>\n",
       "      <th>ISO2</th>\n",
       "      <th>ISO3</th>\n",
       "      <th>Indicator</th>\n",
       "      <th>Unit</th>\n",
       "      <th>Source</th>\n",
       "      <th>CTS_Code</th>\n",
       "      <th>CTS_Name</th>\n",
       "      <th>CTS_Full_Descriptor</th>\n",
       "      <th>Date</th>\n",
       "      <th>Value</th>\n",
       "    </tr>\n",
       "  </thead>\n",
       "  <tbody>\n",
       "    <tr>\n",
       "      <th>0</th>\n",
       "      <td>World</td>\n",
       "      <td>NaN</td>\n",
       "      <td>WLD</td>\n",
       "      <td>Monthly Atmospheric Carbon Dioxide Concentrations</td>\n",
       "      <td>Parts Per Million</td>\n",
       "      <td>Dr. Pieter Tans, National Oceanic and Atmosphe...</td>\n",
       "      <td>ECCA</td>\n",
       "      <td>Atmospheric Carbon Dioxide Concentrations</td>\n",
       "      <td>Environment, Climate Change, Climate Indicator...</td>\n",
       "      <td>1958M03</td>\n",
       "      <td>315.70</td>\n",
       "    </tr>\n",
       "    <tr>\n",
       "      <th>1</th>\n",
       "      <td>World</td>\n",
       "      <td>NaN</td>\n",
       "      <td>WLD</td>\n",
       "      <td>Monthly Atmospheric Carbon Dioxide Concentrations</td>\n",
       "      <td>Parts Per Million</td>\n",
       "      <td>Dr. Pieter Tans, National Oceanic and Atmosphe...</td>\n",
       "      <td>ECCA</td>\n",
       "      <td>Atmospheric Carbon Dioxide Concentrations</td>\n",
       "      <td>Environment, Climate Change, Climate Indicator...</td>\n",
       "      <td>1958M04</td>\n",
       "      <td>317.45</td>\n",
       "    </tr>\n",
       "    <tr>\n",
       "      <th>2</th>\n",
       "      <td>World</td>\n",
       "      <td>NaN</td>\n",
       "      <td>WLD</td>\n",
       "      <td>Monthly Atmospheric Carbon Dioxide Concentrations</td>\n",
       "      <td>Parts Per Million</td>\n",
       "      <td>Dr. Pieter Tans, National Oceanic and Atmosphe...</td>\n",
       "      <td>ECCA</td>\n",
       "      <td>Atmospheric Carbon Dioxide Concentrations</td>\n",
       "      <td>Environment, Climate Change, Climate Indicator...</td>\n",
       "      <td>1958M05</td>\n",
       "      <td>317.51</td>\n",
       "    </tr>\n",
       "    <tr>\n",
       "      <th>3</th>\n",
       "      <td>World</td>\n",
       "      <td>NaN</td>\n",
       "      <td>WLD</td>\n",
       "      <td>Monthly Atmospheric Carbon Dioxide Concentrations</td>\n",
       "      <td>Parts Per Million</td>\n",
       "      <td>Dr. Pieter Tans, National Oceanic and Atmosphe...</td>\n",
       "      <td>ECCA</td>\n",
       "      <td>Atmospheric Carbon Dioxide Concentrations</td>\n",
       "      <td>Environment, Climate Change, Climate Indicator...</td>\n",
       "      <td>1958M06</td>\n",
       "      <td>317.24</td>\n",
       "    </tr>\n",
       "    <tr>\n",
       "      <th>4</th>\n",
       "      <td>World</td>\n",
       "      <td>NaN</td>\n",
       "      <td>WLD</td>\n",
       "      <td>Monthly Atmospheric Carbon Dioxide Concentrations</td>\n",
       "      <td>Parts Per Million</td>\n",
       "      <td>Dr. Pieter Tans, National Oceanic and Atmosphe...</td>\n",
       "      <td>ECCA</td>\n",
       "      <td>Atmospheric Carbon Dioxide Concentrations</td>\n",
       "      <td>Environment, Climate Change, Climate Indicator...</td>\n",
       "      <td>1958M07</td>\n",
       "      <td>315.86</td>\n",
       "    </tr>\n",
       "  </tbody>\n",
       "</table>\n",
       "</div>"
      ],
      "text/plain": [
       "  Country  ISO2 ISO3                                          Indicator   \n",
       "0   World   NaN  WLD  Monthly Atmospheric Carbon Dioxide Concentrations  \\\n",
       "1   World   NaN  WLD  Monthly Atmospheric Carbon Dioxide Concentrations   \n",
       "2   World   NaN  WLD  Monthly Atmospheric Carbon Dioxide Concentrations   \n",
       "3   World   NaN  WLD  Monthly Atmospheric Carbon Dioxide Concentrations   \n",
       "4   World   NaN  WLD  Monthly Atmospheric Carbon Dioxide Concentrations   \n",
       "\n",
       "                Unit                                             Source   \n",
       "0  Parts Per Million  Dr. Pieter Tans, National Oceanic and Atmosphe...  \\\n",
       "1  Parts Per Million  Dr. Pieter Tans, National Oceanic and Atmosphe...   \n",
       "2  Parts Per Million  Dr. Pieter Tans, National Oceanic and Atmosphe...   \n",
       "3  Parts Per Million  Dr. Pieter Tans, National Oceanic and Atmosphe...   \n",
       "4  Parts Per Million  Dr. Pieter Tans, National Oceanic and Atmosphe...   \n",
       "\n",
       "  CTS_Code                                   CTS_Name   \n",
       "0     ECCA  Atmospheric Carbon Dioxide Concentrations  \\\n",
       "1     ECCA  Atmospheric Carbon Dioxide Concentrations   \n",
       "2     ECCA  Atmospheric Carbon Dioxide Concentrations   \n",
       "3     ECCA  Atmospheric Carbon Dioxide Concentrations   \n",
       "4     ECCA  Atmospheric Carbon Dioxide Concentrations   \n",
       "\n",
       "                                 CTS_Full_Descriptor     Date   Value  \n",
       "0  Environment, Climate Change, Climate Indicator...  1958M03  315.70  \n",
       "1  Environment, Climate Change, Climate Indicator...  1958M04  317.45  \n",
       "2  Environment, Climate Change, Climate Indicator...  1958M05  317.51  \n",
       "3  Environment, Climate Change, Climate Indicator...  1958M06  317.24  \n",
       "4  Environment, Climate Change, Climate Indicator...  1958M07  315.86  "
      ]
     },
     "execution_count": 16,
     "metadata": {},
     "output_type": "execute_result"
    }
   ],
   "source": [
    "CO2_Concentrations = pd.read_csv('data/Atmospheric_CO2_Concentrations.csv').drop(columns='ObjectId')\n",
    "CO2_Concentrations.head()"
   ]
  },
  {
   "cell_type": "code",
   "execution_count": 17,
   "metadata": {},
   "outputs": [
    {
     "data": {
      "text/plain": [
       "(1548, 11)"
      ]
     },
     "execution_count": 17,
     "metadata": {},
     "output_type": "execute_result"
    }
   ],
   "source": [
    "CO2_Concentrations.shape"
   ]
  },
  {
   "attachments": {},
   "cell_type": "markdown",
   "metadata": {},
   "source": [
    "# Data Cleaning"
   ]
  },
  {
   "attachments": {},
   "cell_type": "markdown",
   "metadata": {},
   "source": [
    "Describe your data cleaning steps here."
   ]
  },
  {
   "cell_type": "code",
   "execution_count": 2,
   "metadata": {},
   "outputs": [],
   "source": [
    "## YOUR CODE HERE\n",
    "## FEEL FREE TO ADD MULTIPLE CELLS PER SECTION"
   ]
  }
 ],
 "metadata": {
  "kernelspec": {
   "display_name": "Python 3",
   "language": "python",
   "name": "python3"
  },
  "language_info": {
   "codemirror_mode": {
    "name": "ipython",
    "version": 3
   },
   "file_extension": ".py",
   "mimetype": "text/x-python",
   "name": "python",
   "nbconvert_exporter": "python",
   "pygments_lexer": "ipython3",
   "version": "3.11.3"
  }
 },
 "nbformat": 4,
 "nbformat_minor": 2
}
