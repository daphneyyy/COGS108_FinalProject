{
 "cells": [
  {
   "cell_type": "markdown",
   "metadata": {},
   "source": [
    "# COGS 108 - Final Project Proposal"
   ]
  },
  {
   "cell_type": "markdown",
   "metadata": {},
   "source": [
    "# Names\n",
    "\n",
    "- Leica Shen\n",
    "- Yuxuan Wu\n",
    "- Eddie Ho\n",
    "- Xuewen Yang"
   ]
  },
  {
   "cell_type": "markdown",
   "metadata": {},
   "source": [
    "# Research Question"
   ]
  },
  {
   "attachments": {},
   "cell_type": "markdown",
   "metadata": {},
   "source": [
    "How has the COVID-19 pandemic impact global warming? Specifically, how do changes in greenhouse gas emissions during 1/30/2020 - 4/11/2023 resulting from pandemic-related lockdowns and reduced economic activity impact the rate of global temperature increase and sea level rise?"
   ]
  },
  {
   "cell_type": "markdown",
   "metadata": {},
   "source": [
    "## Background and Prior Work"
   ]
  },
  {
   "attachments": {},
   "cell_type": "markdown",
   "metadata": {},
   "source": [
    "\n",
    "- Include a general introduction to your topic\n",
    "\n",
    "> The COVID-19 pandemic has had an unprecedented impact on global economies and societies, resulting in widespread changes to daily life, business operations, and travel patterns. While this has brought many challenges, it has also had an unexpected effect on the environment, including global warming. With fewer people commuting to work, reduced air travel, and lower industrial activity, the levels of carbon emissions and other greenhouse gases have decreased significantly in many parts of the world. As the world begins to recover from the pandemic and returns to some semblance of normalcy, it is important to assess the long-term impact of these changes on the environment and climate change.\n",
    "> \n",
    "> In this context, we are exploring how the COVID-19 pandemic affects the environment and climate change. We will be comparing and examining the data before the pandemic begins, and during the pandemic. We will also be comparing and examining the data after the pandemic ends.\n",
    "\n",
    "- Include explanation of what work has been done previously\n",
    "\n",
    "> Several studies have examined the effect of the COVID-19 pandemic on greenhouse gas emissions and global warming. One study published in the journal [^Nature Climate Change] estimated that global carbon dioxide (CO2) emissions declined by 17% during the peak of the pandemic in early April 2020 compared to the same period in 2019. The study also found that daily CO2 emissions decreased by up to 26% in individual countries.\n",
    "> \n",
    "> Other studies have also reported significant reductions in air pollution and greenhouse gas emissions in major cities and regions around the world, including China, Europe, and the United States. For example, a study published in the journal [^Geophysical Research Letters] found that nitrogen dioxide (NO2) levels, a major air pollutant, decreased by up to 60% in some cities in China during the lockdown period in early 2020.\n",
    "> \n",
    "> However, some studies have also pointed out that the effect of the pandemic on global emissions may be temporary and limited. For example, a study published in the journal Science of the Total Environment noted that although global emissions decreased in 2020, they are expected to rebound in the coming years as economies recover and travel resumes.\n",
    "\n",
    "- Include citations or links to previous work\n",
    "\n",
    "  - [^Nature Climate Change]: Le Quéré, C., Peters, G.P., Friedlingstein, P. et al. Fossil CO2 emissions in the post-COVID-19 era. Nat. Clim. Chang. 11, 197–199 (2021). https://doi.org/10.1038/s41558-021-01001-0\n",
    "  - [^Geophysical Research Letters]: Li, X., Bei, N., Wu, J., Liu, S., Wang, Q., Tian, J., et al. (2022). The heavy particulate matter pollution during the COVID-19 lockdown period in the Guanzhong Basin, China. Journal of Geophysical Research: Atmospheres, 127, e2021JD036191. https://doi.org/10.1029/2021JD036191\n"
   ]
  },
  {
   "cell_type": "markdown",
   "metadata": {},
   "source": [
    "# Hypothesis\n"
   ]
  },
  {
   "cell_type": "markdown",
   "metadata": {},
   "source": [
    "\n",
    "- Include your team's hypothesis\n",
    "- Ensure that this hypothesis is clear to readers\n",
    "- Explain why you think this will be the outcome (what was your thinking?)\n",
    "\n",
    "What is your main hypothesis/predictions about what the answer to your question is? Briefly explain your thinking. (2-3 sentences)"
   ]
  },
  {
   "cell_type": "markdown",
   "metadata": {},
   "source": [
    "# Data"
   ]
  },
  {
   "attachments": {},
   "cell_type": "markdown",
   "metadata": {},
   "source": [
    "1. Explain what the **ideal** dataset you would want to answer this question. (This should include: What variables? How many observations? Who/what/how would these data be collected? How would these data be stored/organized?)\n",
    "1. Search for potential **real** datasets that could provide you with something useful for this project.  You do not have to find every piece of data you will use, but you do need to have demonstrated some idea that (a) this data is gettable and (b) that this data may be different from what your ideal is"
   ]
  },
  {
   "cell_type": "markdown",
   "metadata": {},
   "source": [
    "# Ethics & Privacy"
   ]
  },
  {
   "cell_type": "markdown",
   "metadata": {},
   "source": [
    "- Thoughtful discussion of ethical concerns included\n",
    "- Ethical concerns consider the whole data science process (question asked, data collected, data being used, the bias in data, analysis, post-analysis, etc.)\n",
    "- How your group handled bias/ethical concerns clearly described\n",
    "\n",
    "Acknowledge and address any ethics & privacy related issues of your question(s), proposed dataset(s), and/or analyses. Use the information provided in lecture to guide your group discussion and thinking. If you need further guidance, check out [Deon's Ethics Checklist](http://deon.drivendata.org/#data-science-ethics-checklist). In particular:\n",
    "\n",
    "- Are there any biases/privacy/terms of use issues with the data you propsed?\n",
    "- Are there potential biases in your dataset(s), in terms of who it composes, and how it was collected, that may be problematic in terms of it allowing for equitable analysis? (For example, does your data exclude particular populations, or is it likely to reflect particular human biases in a way that could be a problem?)\n",
    "- How will you set out to detect these specific biases before, during, and after/when communicating your analysis?\n",
    "- Are there any other issues related to your topic area, data, and/or analyses that are potentially problematic in terms of data privacy and equitable impact?\n",
    "- How will you handle issues you identified?"
   ]
  },
  {
   "cell_type": "markdown",
   "metadata": {},
   "source": [
    "# Team Expectations "
   ]
  },
  {
   "cell_type": "markdown",
   "metadata": {},
   "source": [
    "\n",
    "Read over the [COGS108 Team Policies](https://github.com/COGS108/Projects/blob/master/COGS108_TeamPolicies.md) individually. Then, include your group’s expectations of one another for successful completion of your COGS108 project below. Discuss and agree on what all of your expectations are. Discuss how your team will communicate throughout the quarter and consider how you will communicate respectfully should conflicts arise. By including each member’s name above and by adding their name to the submission, you are indicating that you have read the COGS108 Team Policies, accept your team’s expectations below, and have every intention to fulfill them. These expectations are for your team’s use and benefit — they won’t be graded for their details.\n",
    "\n",
    "* *Team Expectation 1*\n",
    "* *Team Expectation 2*\n",
    "* *Team Expecation 3*\n",
    "* ..."
   ]
  },
  {
   "cell_type": "markdown",
   "metadata": {},
   "source": [
    "# Project Timeline Proposal"
   ]
  },
  {
   "attachments": {},
   "cell_type": "markdown",
   "metadata": {},
   "source": [
    "| Meeting Date  | Meeting Time| Completed Before Meeting  | Discuss at Meeting |\n",
    "|---|---|---|---|\n",
    "| 5/1  |  12 PM | Read & Think about COGS 108 expectations; brainstorm topics/questions  | Discuss and decide on final project topic; Discuss hypothesis; Do background research on topic; Discuss ideal dataset(s) and ethics; Draft project proposal | \n",
    "| 5/3  |  12 PM |  Finalize and submit project proposal | Discuss Wrangling and possible analytical approaches; Assign group members to lead each specific part | \n",
    "| 5/15  | 12 PM  | Start working on assigned the assigned work  | Prepare for Data Checkpoint |\n",
    "| 5/17 | Before 11:59PM | Finish clearing data | Submit Data checkpoint #1|\n",
    "| 5/20  | 12 PM  | Import & Wrangle Data; EDA | Review/Edit wrangling/EDA; Discuss Analysis Plan   |\n",
    "| 5/31  | 12 PM  | Finalize wrangling/EDA; Begin Analysis | Discuss/edit Analysis; Complete project EDA checkpoint #2 |\n",
    "| 6/6  | 12 PM  | Complete analysis; Draft results/conclusion/discussion (Wasp)| Discuss/edit full project |\n",
    "| 6/14  | Before 11:59 PM  | NA | Turn in Final Project & Group Project Surveys & Video |"
   ]
  },
  {
   "cell_type": "code",
   "execution_count": null,
   "metadata": {},
   "outputs": [],
   "source": []
  }
 ],
 "metadata": {
  "kernelspec": {
   "display_name": "Python 3 (ipykernel)",
   "language": "python",
   "name": "python3"
  },
  "language_info": {
   "codemirror_mode": {
    "name": "ipython",
    "version": 3
   },
   "file_extension": ".py",
   "mimetype": "text/x-python",
   "name": "python",
   "nbconvert_exporter": "python",
   "pygments_lexer": "ipython3",
   "version": "3.7.9"
  }
 },
 "nbformat": 4,
 "nbformat_minor": 2
}
