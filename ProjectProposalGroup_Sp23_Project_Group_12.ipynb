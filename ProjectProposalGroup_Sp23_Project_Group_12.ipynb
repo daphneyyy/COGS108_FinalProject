{
 "cells": [
  {
   "cell_type": "markdown",
   "metadata": {},
   "source": [
    "# COGS 108 - Final Project Proposal"
   ]
  },
  {
   "cell_type": "markdown",
   "metadata": {},
   "source": [
    "# Names\n",
    "\n",
    "- Leica Shen\n",
    "- Yuxuan Wu\n",
    "- Eddie Ho\n",
    "- Xuewen Yang"
   ]
  },
  {
   "cell_type": "markdown",
   "metadata": {},
   "source": [
    "# Research Question"
   ]
  },
  {
   "attachments": {},
   "cell_type": "markdown",
   "metadata": {},
   "source": [
    "How has the COVID-19 pandemic impact global warming? Specifically, how do changes in greenhouse gas emissions during 1/30/2020 - 4/11/2023 resulting from pandemic-related lockdowns and reduced economic activity impact the rate of global temperature increase and sea level rise?"
   ]
  },
  {
   "cell_type": "markdown",
   "metadata": {},
   "source": [
    "## Background and Prior Work"
   ]
  },
  {
   "attachments": {},
   "cell_type": "markdown",
   "metadata": {},
   "source": [
    "\n",
    "- Include a general introduction to your topic\n",
    "\n",
    "> The COVID-19 pandemic has had an unprecedented impact on global economies and societies, resulting in widespread changes to daily life, business operations, and travel patterns. While this has brought many challenges, it has also had an unexpected effect on the environment, including global warming. With fewer people commuting to work, reduced air travel, and lower industrial activity, the levels of carbon emissions and other greenhouse gases have decreased significantly in many parts of the world. As the world begins to recover from the pandemic and returns to some semblance of normalcy, it is important to assess the long-term impact of these changes on the environment and climate change.\n",
    "> \n",
    "> In this context, we are exploring how the COVID-19 pandemic affects the environment and climate change. We will be comparing and examining the data before the pandemic begins, and during the pandemic. We will also be comparing and examining the data after the pandemic ends.\n",
    "\n",
    "- Include explanation of what work has been done previously\n",
    "\n",
    "> Several studies have examined the effect of the COVID-19 pandemic on greenhouse gas emissions and global warming. One study published in the journal [^Nature Climate Change] estimated that global carbon dioxide (CO2) emissions declined by 17% during the peak of the pandemic in early April 2020 compared to the same period in 2019. The study also found that daily CO2 emissions decreased by up to 26% in individual countries.\n",
    "> \n",
    "> Other studies have also reported significant reductions in air pollution and greenhouse gas emissions in major cities and regions around the world, including China, Europe, and the United States. For example, a study published in the journal [^Geophysical Research Letters] found that nitrogen dioxide (NO2) levels, a major air pollutant, decreased by up to 60% in some cities in China during the lockdown period in early 2020.\n",
    "> \n",
    "> However, some studies have also pointed out that the effect of the pandemic on global emissions may be temporary and limited. For example, a study published in the journal Science of the Total Environment noted that although global emissions decreased in 2020, they are expected to rebound in the coming years as economies recover and travel resumes.\n",
    "\n",
    "- Include citations or links to previous work\n",
    "\n",
    "  - [^Nature Climate Change]: Le Quéré, C., Peters, G.P., Friedlingstein, P. et al. Fossil CO2 emissions in the post-COVID-19 era. Nat. Clim. Chang. 11, 197–199 (2021). https://doi.org/10.1038/s41558-021-01001-0\n",
    "  - [^Geophysical Research Letters]: Li, X., Bei, N., Wu, J., Liu, S., Wang, Q., Tian, J., et al. (2022). The heavy particulate matter pollution during the COVID-19 lockdown period in the Guanzhong Basin, China. Journal of Geophysical Research: Atmospheres, 127, e2021JD036191. https://doi.org/10.1029/2021JD036191\n"
   ]
  },
  {
   "cell_type": "markdown",
   "metadata": {},
   "source": [
    "# Hypothesis\n"
   ]
  },
  {
   "attachments": {},
   "cell_type": "markdown",
   "metadata": {},
   "source": [
    "**Hypothesis**: We hypothesize that the COVID-19 pandemic, which led to significant reductions in human activities (thus reduction of greenhouse gas emissions), will have a temporary slowing effect on global temperature increase and sea level rise.\n",
    "\n",
    "Our thinking behind this hypothesis is based on previous research that has shown a strong correlation between greenhouse gas emissions and global temperature increase and sea level rise. We anticipate that the reduction in emissions resulting from pandemic-related lockdowns and reduced economic activity will result in a temporary slowing of these trends."
   ]
  },
  {
   "cell_type": "markdown",
   "metadata": {},
   "source": [
    "# Data"
   ]
  },
  {
   "attachments": {},
   "cell_type": "markdown",
   "metadata": {},
   "source": [
    "**Ideal dataset**:\n",
    "* **Global temperature data**: Accurate and reliable measurements of monthly average or annual average temperatures for different regions of the world, recorded over decades that include the period from January 30, 2020 to November 4, 2023.\n",
    "\n",
    "* **Greenhouse gas emissions data**: Accurate and reliable measurements of global greenhouse gas emissions, including records of carbon dioxide (CO2), methane (CH4), and nitrous oxide (N2O), over decades that include the period from January 30, 2020 to November 4, 2023.\n",
    "\n",
    "* **Sea-level rise data**: Accurate and reliable measurements of global sea-level rise over decades that include the period from January 30, 2020 to November 4, 2023.\n",
    "\n",
    "* **Data sources**: The greenhouse gas emissions data could be obtained from industry reports, national and international agencies such as *The Emissions Database for Global Atmospheric Research*, etc. Temperature and sea-level rise data could be obtained from meteorological and oceanographic stations, etc.\n",
    "\n",
    "* **Data storage/organization**: The data should be stored in a structured format such as *.CSV* format. We can store the data in Pandas DataFrame for better reference. \n",
    "\n",
    "* **Sample size**: Includes data on at least the last 50 years. Within each year, there may be multiple data points for each month, so a good sample size will be 1000. "
   ]
  },
  {
   "attachments": {},
   "cell_type": "markdown",
   "metadata": {},
   "source": [
    "**Real dataset**:"
   ]
  },
  {
   "cell_type": "code",
   "execution_count": 1,
   "metadata": {},
   "outputs": [],
   "source": [
    "import pandas as pd\n",
    "import numpy as np"
   ]
  },
  {
   "cell_type": "code",
   "execution_count": 16,
   "metadata": {},
   "outputs": [
    {
     "data": {
      "text/html": [
       "<div>\n",
       "<style scoped>\n",
       "    .dataframe tbody tr th:only-of-type {\n",
       "        vertical-align: middle;\n",
       "    }\n",
       "\n",
       "    .dataframe tbody tr th {\n",
       "        vertical-align: top;\n",
       "    }\n",
       "\n",
       "    .dataframe thead th {\n",
       "        text-align: right;\n",
       "    }\n",
       "</style>\n",
       "<table border=\"1\" class=\"dataframe\">\n",
       "  <thead>\n",
       "    <tr style=\"text-align: right;\">\n",
       "      <th></th>\n",
       "      <th>region</th>\n",
       "      <th>country</th>\n",
       "      <th>emissions</th>\n",
       "      <th>type</th>\n",
       "      <th>segment</th>\n",
       "      <th>reason</th>\n",
       "      <th>baseYear</th>\n",
       "      <th>notes</th>\n",
       "    </tr>\n",
       "  </thead>\n",
       "  <tbody>\n",
       "    <tr>\n",
       "      <th>0</th>\n",
       "      <td>Africa</td>\n",
       "      <td>Algeria</td>\n",
       "      <td>257.611206</td>\n",
       "      <td>Agriculture</td>\n",
       "      <td>Total</td>\n",
       "      <td>All</td>\n",
       "      <td>2019-2021</td>\n",
       "      <td>Average based on United Nations Framework Conv...</td>\n",
       "    </tr>\n",
       "    <tr>\n",
       "      <th>1</th>\n",
       "      <td>Africa</td>\n",
       "      <td>Algeria</td>\n",
       "      <td>0.052000</td>\n",
       "      <td>Energy</td>\n",
       "      <td>Bioenergy</td>\n",
       "      <td>All</td>\n",
       "      <td>2022</td>\n",
       "      <td>Estimates from end-uses are for 2020 or 2021 (...</td>\n",
       "    </tr>\n",
       "    <tr>\n",
       "      <th>2</th>\n",
       "      <td>Africa</td>\n",
       "      <td>Algeria</td>\n",
       "      <td>130.798996</td>\n",
       "      <td>Energy</td>\n",
       "      <td>Gas pipelines and LNG facilities</td>\n",
       "      <td>Fugitive</td>\n",
       "      <td>2022</td>\n",
       "      <td>Not available</td>\n",
       "    </tr>\n",
       "    <tr>\n",
       "      <th>3</th>\n",
       "      <td>Africa</td>\n",
       "      <td>Algeria</td>\n",
       "      <td>69.741898</td>\n",
       "      <td>Energy</td>\n",
       "      <td>Gas pipelines and LNG facilities</td>\n",
       "      <td>Vented</td>\n",
       "      <td>2022</td>\n",
       "      <td>Not available</td>\n",
       "    </tr>\n",
       "    <tr>\n",
       "      <th>4</th>\n",
       "      <td>Africa</td>\n",
       "      <td>Algeria</td>\n",
       "      <td>213.987000</td>\n",
       "      <td>Energy</td>\n",
       "      <td>Onshore gas</td>\n",
       "      <td>Fugitive</td>\n",
       "      <td>2022</td>\n",
       "      <td>Not available</td>\n",
       "    </tr>\n",
       "  </tbody>\n",
       "</table>\n",
       "</div>"
      ],
      "text/plain": [
       "   region  country   emissions         type                           segment   \n",
       "0  Africa  Algeria  257.611206  Agriculture                             Total  \\\n",
       "1  Africa  Algeria    0.052000       Energy                         Bioenergy   \n",
       "2  Africa  Algeria  130.798996       Energy  Gas pipelines and LNG facilities   \n",
       "3  Africa  Algeria   69.741898       Energy  Gas pipelines and LNG facilities   \n",
       "4  Africa  Algeria  213.987000       Energy                       Onshore gas   \n",
       "\n",
       "     reason   baseYear                                              notes  \n",
       "0       All  2019-2021  Average based on United Nations Framework Conv...  \n",
       "1       All       2022  Estimates from end-uses are for 2020 or 2021 (...  \n",
       "2  Fugitive       2022                                      Not available  \n",
       "3    Vented       2022                                      Not available  \n",
       "4  Fugitive       2022                                      Not available  "
      ]
     },
     "execution_count": 16,
     "metadata": {},
     "output_type": "execute_result"
    }
   ],
   "source": [
    "methane_final = pd.read_csv('data/Methane_final.csv')\n",
    "methane_final = methane_final.drop(columns='Unnamed: 0')\n",
    "methane_final.head()"
   ]
  },
  {
   "attachments": {},
   "cell_type": "markdown",
   "metadata": {},
   "source": [
    "The *methane_final* dataset contains methane gas emissions data around the world for 2019 - 2022. It differs with our ideal dataset on that it does not contain data before 2019 and data after 2022. It also does not contain gas emissions data for other kinds of greenhouse gas."
   ]
  },
  {
   "cell_type": "code",
   "execution_count": 18,
   "metadata": {},
   "outputs": [
    {
     "data": {
      "text/html": [
       "<div>\n",
       "<style scoped>\n",
       "    .dataframe tbody tr th:only-of-type {\n",
       "        vertical-align: middle;\n",
       "    }\n",
       "\n",
       "    .dataframe tbody tr th {\n",
       "        vertical-align: top;\n",
       "    }\n",
       "\n",
       "    .dataframe thead th {\n",
       "        text-align: right;\n",
       "    }\n",
       "</style>\n",
       "<table border=\"1\" class=\"dataframe\">\n",
       "  <thead>\n",
       "    <tr style=\"text-align: right;\">\n",
       "      <th></th>\n",
       "      <th>Time</th>\n",
       "      <th>GMSL</th>\n",
       "      <th>GMSL uncertainty</th>\n",
       "    </tr>\n",
       "  </thead>\n",
       "  <tbody>\n",
       "    <tr>\n",
       "      <th>0</th>\n",
       "      <td>1880-01-15</td>\n",
       "      <td>-183.0</td>\n",
       "      <td>24.2</td>\n",
       "    </tr>\n",
       "    <tr>\n",
       "      <th>1</th>\n",
       "      <td>1880-02-15</td>\n",
       "      <td>-171.1</td>\n",
       "      <td>24.2</td>\n",
       "    </tr>\n",
       "    <tr>\n",
       "      <th>2</th>\n",
       "      <td>1880-03-15</td>\n",
       "      <td>-164.3</td>\n",
       "      <td>24.2</td>\n",
       "    </tr>\n",
       "    <tr>\n",
       "      <th>3</th>\n",
       "      <td>1880-04-15</td>\n",
       "      <td>-158.2</td>\n",
       "      <td>24.2</td>\n",
       "    </tr>\n",
       "    <tr>\n",
       "      <th>4</th>\n",
       "      <td>1880-05-15</td>\n",
       "      <td>-158.7</td>\n",
       "      <td>24.2</td>\n",
       "    </tr>\n",
       "  </tbody>\n",
       "</table>\n",
       "</div>"
      ],
      "text/plain": [
       "         Time   GMSL  GMSL uncertainty\n",
       "0  1880-01-15 -183.0              24.2\n",
       "1  1880-02-15 -171.1              24.2\n",
       "2  1880-03-15 -164.3              24.2\n",
       "3  1880-04-15 -158.2              24.2\n",
       "4  1880-05-15 -158.7              24.2"
      ]
     },
     "execution_count": 18,
     "metadata": {},
     "output_type": "execute_result"
    }
   ],
   "source": [
    "sea_level = pd.read_csv('data/sea_levels_2015.csv')\n",
    "sea_level.head()"
   ]
  },
  {
   "attachments": {},
   "cell_type": "markdown",
   "metadata": {},
   "source": [
    "The *sea_level* dataset contains global average absolute sea level changing data from 1880 to 2014. It does not contains the data for 2015 and beyond. Thus, we still need to look for another dataset to merge with. "
   ]
  },
  {
   "cell_type": "markdown",
   "metadata": {},
   "source": [
    "# Ethics & Privacy"
   ]
  },
  {
   "attachments": {},
   "cell_type": "markdown",
   "metadata": {},
   "source": [
    "One potential issue is that the data used to measure carbon emissions and temperature may not be equally representative of all populations. For example, some countries or regions may have better or more extensive monitoring systems, which could lead to biases in the data.\n",
    "\n",
    "To address this, our team will strive to use the most comprehensive and reliable data sources available. We will also make an effort to acknowledge potential biases in the data and take steps to address them in our analysis, such as adjusting for regional differences or using multiple data sources to confirm trends."
   ]
  },
  {
   "cell_type": "markdown",
   "metadata": {},
   "source": [
    "# Team Expectations "
   ]
  },
  {
   "cell_type": "markdown",
   "metadata": {},
   "source": [
    "\n",
    "Read over the [COGS108 Team Policies](https://github.com/COGS108/Projects/blob/master/COGS108_TeamPolicies.md) individually. Then, include your group’s expectations of one another for successful completion of your COGS108 project below. Discuss and agree on what all of your expectations are. Discuss how your team will communicate throughout the quarter and consider how you will communicate respectfully should conflicts arise. By including each member’s name above and by adding their name to the submission, you are indicating that you have read the COGS108 Team Policies, accept your team’s expectations below, and have every intention to fulfill them. These expectations are for your team’s use and benefit — they won’t be graded for their details.\n",
    "\n",
    "* *Team Expectation 1*\n",
    "* *Team Expectation 2*\n",
    "* *Team Expecation 3*\n",
    "* ..."
   ]
  },
  {
   "cell_type": "markdown",
   "metadata": {},
   "source": [
    "# Project Timeline Proposal"
   ]
  },
  {
   "attachments": {},
   "cell_type": "markdown",
   "metadata": {},
   "source": [
    "| Meeting Date  | Meeting Time| Completed Before Meeting  | Discuss at Meeting |\n",
    "|---|---|---|---|\n",
    "| 5/1  |  12 PM | Read & Think about COGS 108 expectations; brainstorm topics/questions  | Discuss and decide on final project topic; Discuss hypothesis; Do background research on topic; Discuss ideal dataset(s) and ethics; Draft project proposal | \n",
    "| 5/3  |  12 PM |  Finalize and submit project proposal | Discuss Wrangling and possible analytical approaches; Assign group members to lead each specific part | \n",
    "| 5/15  | 12 PM  | Start working on assigned the assigned work  | Prepare for Data Checkpoint |\n",
    "| 5/17 | Before 11:59PM | Finish clearing data | Submit Data checkpoint #1|\n",
    "| 5/20  | 12 PM  | Import & Wrangle Data; EDA | Review/Edit wrangling/EDA; Discuss Analysis Plan   |\n",
    "| 5/31  | 12 PM  | Finalize wrangling/EDA; Begin Analysis | Discuss/edit Analysis; Complete project EDA checkpoint #2 |\n",
    "| 6/6  | 12 PM  | Complete analysis; Draft results/conclusion/discussion (Wasp)| Discuss/edit full project |\n",
    "| 6/14  | Before 11:59 PM  | NA | Turn in Final Project & Group Project Surveys & Video |"
   ]
  },
  {
   "cell_type": "code",
   "execution_count": null,
   "metadata": {},
   "outputs": [],
   "source": []
  }
 ],
 "metadata": {
  "kernelspec": {
   "display_name": "Python 3 (ipykernel)",
   "language": "python",
   "name": "python3"
  },
  "language_info": {
   "codemirror_mode": {
    "name": "ipython",
    "version": 3
   },
   "file_extension": ".py",
   "mimetype": "text/x-python",
   "name": "python",
   "nbconvert_exporter": "python",
   "pygments_lexer": "ipython3",
   "version": "3.11.3"
  }
 },
 "nbformat": 4,
 "nbformat_minor": 2
}
